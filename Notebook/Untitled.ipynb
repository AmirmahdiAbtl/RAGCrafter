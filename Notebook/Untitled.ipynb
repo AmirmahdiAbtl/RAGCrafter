{
 "cells": [
  {
   "cell_type": "code",
   "execution_count": 3,
   "id": "3fb011cc",
   "metadata": {},
   "outputs": [],
   "source": [
    "from langchain.embeddings import HuggingFaceEmbeddings\n",
    "from langchain.vectorstores import FAISS\n",
    "from langchain.chains import RetrievalQA\n",
    "from langchain.prompts import PromptTemplate\n",
    "from langchain import LLMChain\n",
    "from langchain_groq import ChatGroq\n",
    "from langchain.chains import ConversationalRetrievalChain\n",
    "from langchain_community.document_loaders import UnstructuredURLLoader, UnstructuredFileLoader\n",
    "from langchain.text_splitter import RecursiveCharacterTextSplitter\n",
    "from langchain.chains.conversational_retrieval.prompts import CONDENSE_QUESTION_PROMPT\n",
    "from langchain.chains.question_answering import load_qa_chain\n",
    "import warnings\n",
    "warnings.filterwarnings(\"ignore\")\n",
    "\n",
    "llm = ChatGroq(\n",
    "    model_name = \"deepseek-r1-distill-llama-70b\",\n",
    "    temperature = 0.5,\n",
    "    groq_api_key = \"api_key\"\n",
    ")"
   ]
  },
  {
   "cell_type": "code",
   "execution_count": 10,
   "id": "dd10557b",
   "metadata": {},
   "outputs": [],
   "source": [
    "prompt_template = PromptTemplate(\n",
    "    input_variables=[\"chat_history\", \"question\"],\n",
    "    template=\"\"\"\n",
    "    This is the summary of our chat: {chat_history}\n",
    "    You are a regular Chat Bot and use the chat history as memory of the previous chat has been done.\n",
    "    question : {question}\n",
    "    \"\"\"\n",
    ")\n",
    "chat_chain = LLMChain(llm=llm, prompt=prompt_template) \n",
    "chat_history = [\"\"]\n",
    "user_input = \"Hi\"\n",
    "response = chat_chain.run(chat_history=chat_history, question=user_input)"
   ]
  },
  {
   "cell_type": "code",
   "execution_count": 11,
   "id": "6a0fa3bc",
   "metadata": {},
   "outputs": [
    {
     "name": "stdout",
     "output_type": "stream",
     "text": [
      "Assistant: <think>\n",
      "Okay, the user just said \"Hi.\" I should respond in a friendly and welcoming manner. Maybe say hello back and offer assistance to show I'm here to help.\n",
      "\n",
      "I should keep it simple and open-ended so the user feels comfortable asking for help.\n",
      "\n",
      "Maybe add a smiley to make it more approachable.\n",
      "\n",
      "So, I'll say, \"Hello! How can I assist you today? 😊\"\n",
      "</think>\n",
      "\n",
      "Hello! How can I assist you today? 😊\n"
     ]
    }
   ],
   "source": [
    " print(\"Assistant:\", response)"
   ]
  },
  {
   "cell_type": "code",
   "execution_count": null,
   "id": "6c208eb8",
   "metadata": {},
   "outputs": [],
   "source": []
  }
 ],
 "metadata": {
  "kernelspec": {
   "display_name": "Python 3 (ipykernel)",
   "language": "python",
   "name": "python3"
  },
  "language_info": {
   "codemirror_mode": {
    "name": "ipython",
    "version": 3
   },
   "file_extension": ".py",
   "mimetype": "text/x-python",
   "name": "python",
   "nbconvert_exporter": "python",
   "pygments_lexer": "ipython3",
   "version": "3.11.5"
  }
 },
 "nbformat": 4,
 "nbformat_minor": 5
}
